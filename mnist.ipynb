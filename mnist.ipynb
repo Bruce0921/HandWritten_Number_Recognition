{
 "cells": [
  {
   "cell_type": "markdown",
   "id": "f4f37616",
   "metadata": {},
   "source": [
    "# HandWritten Digit Recognition"
   ]
  },
  {
   "cell_type": "markdown",
   "id": "93bcc93f",
   "metadata": {},
   "source": [
    "First DeepLearning project"
   ]
  },
  {
   "cell_type": "markdown",
   "id": "9470f29f",
   "metadata": {},
   "source": [
    "In this project, we are using mnist dataset and try to train a neural network to do the digit classification"
   ]
  },
  {
   "cell_type": "code",
   "execution_count": 33,
   "id": "13e9c9ec",
   "metadata": {
    "scrolled": true
   },
   "outputs": [
    {
     "name": "stdout",
     "output_type": "stream",
     "text": [
      "2.13.0\n"
     ]
    }
   ],
   "source": [
    "import numpy as np\n",
    "import pandas as pd\n",
    "import matplotlib as plt\n",
    "import tensorflow as tf\n",
    "from tensorflow import keras\n",
    "import matplotlib.pyplot as plt\n",
    "\n",
    "print(tf.__version__)\n"
   ]
  },
  {
   "cell_type": "markdown",
   "id": "4de92153",
   "metadata": {},
   "source": [
    "load the mnist data"
   ]
  },
  {
   "cell_type": "code",
   "execution_count": 2,
   "id": "96dd28c4",
   "metadata": {},
   "outputs": [],
   "source": [
    "from tensorflow.keras.datasets import mnist"
   ]
  },
  {
   "cell_type": "markdown",
   "id": "4541c1f1",
   "metadata": {},
   "source": [
    "## load the mnist dataset"
   ]
  },
  {
   "cell_type": "code",
   "execution_count": 3,
   "id": "308b1112",
   "metadata": {},
   "outputs": [],
   "source": [
    "(train_images, train_labels), (test_images, test_labels) = mnist.load_data()"
   ]
  },
  {
   "cell_type": "markdown",
   "id": "aacf0c39",
   "metadata": {},
   "source": [
    "## Inspect the data"
   ]
  },
  {
   "cell_type": "code",
   "execution_count": 4,
   "id": "9c50c5b9",
   "metadata": {},
   "outputs": [
    {
     "data": {
      "image/png": "[encoded data removed]",
      "text/plain": [
       "<Figure size 640x480 with 1 Axes>"
      ]
     },
     "metadata": {},
     "output_type": "display_data"
    }
   ],
   "source": [
    "plt.imshow(train_images[0], cmap='gray')\n",
    "plt.title(f\"Label: {train_labels[0]}\")\n",
    "plt.show()"
   ]
  },
  {
   "cell_type": "markdown",
   "id": "efc01458",
   "metadata": {},
   "source": [
    "before we do anything, we have to remember to normalize the data\n",
    "\n",
    "# Normalize the images to be values between 0 and 1"
   ]
  },
  {
   "cell_type": "code",
   "execution_count": 5,
   "id": "e20193b1",
   "metadata": {},
   "outputs": [],
   "source": [
    "train_images = train_images.astype('float32') / 255\n",
    "test_images = test_images.astype('float32') / 255"
   ]
  },
  {
   "cell_type": "markdown",
   "id": "0634530d",
   "metadata": {},
   "source": [
    "then,\n",
    "\n",
    "\n",
    "# One-hot encode the labels"
   ]
  },
  {
   "cell_type": "code",
   "execution_count": 6,
   "id": "f269d04f",
   "metadata": {},
   "outputs": [],
   "source": [
    "train_labels = tf.keras.utils.to_categorical(train_labels)\n",
    "test_labels = tf.keras.utils.to_categorical(test_labels)"
   ]
  },
  {
   "cell_type": "markdown",
   "id": "65233400",
   "metadata": {},
   "source": [
    "to understand how the data is structured, we print it"
   ]
  },
  {
   "cell_type": "code",
   "execution_count": 7,
   "id": "638180a9",
   "metadata": {},
   "outputs": [
    {
     "name": "stdout",
     "output_type": "stream",
     "text": [
      "[[[0. 0. 0. ... 0. 0. 0.]\n",
      "  [0. 0. 0. ... 0. 0. 0.]\n",
      "  [0. 0. 0. ... 0. 0. 0.]\n",
      "  ...\n",
      "  [0. 0. 0. ... 0. 0. 0.]\n",
      "  [0. 0. 0. ... 0. 0. 0.]\n",
      "  [0. 0. 0. ... 0. 0. 0.]]\n",
      "\n",
      " [[0. 0. 0. ... 0. 0. 0.]\n",
      "  [0. 0. 0. ... 0. 0. 0.]\n",
      "  [0. 0. 0. ... 0. 0. 0.]\n",
      "  ...\n",
      "  [0. 0. 0. ... 0. 0. 0.]\n",
      "  [0. 0. 0. ... 0. 0. 0.]\n",
      "  [0. 0. 0. ... 0. 0. 0.]]\n",
      "\n",
      " [[0. 0. 0. ... 0. 0. 0.]\n",
      "  [0. 0. 0. ... 0. 0. 0.]\n",
      "  [0. 0. 0. ... 0. 0. 0.]\n",
      "  ...\n",
      "  [0. 0. 0. ... 0. 0. 0.]\n",
      "  [0. 0. 0. ... 0. 0. 0.]\n",
      "  [0. 0. 0. ... 0. 0. 0.]]\n",
      "\n",
      " ...\n",
      "\n",
      " [[0. 0. 0. ... 0. 0. 0.]\n",
      "  [0. 0. 0. ... 0. 0. 0.]\n",
      "  [0. 0. 0. ... 0. 0. 0.]\n",
      "  ...\n",
      "  [0. 0. 0. ... 0. 0. 0.]\n",
      "  [0. 0. 0. ... 0. 0. 0.]\n",
      "  [0. 0. 0. ... 0. 0. 0.]]\n",
      "\n",
      " [[0. 0. 0. ... 0. 0. 0.]\n",
      "  [0. 0. 0. ... 0. 0. 0.]\n",
      "  [0. 0. 0. ... 0. 0. 0.]\n",
      "  ...\n",
      "  [0. 0. 0. ... 0. 0. 0.]\n",
      "  [0. 0. 0. ... 0. 0. 0.]\n",
      "  [0. 0. 0. ... 0. 0. 0.]]\n",
      "\n",
      " [[0. 0. 0. ... 0. 0. 0.]\n",
      "  [0. 0. 0. ... 0. 0. 0.]\n",
      "  [0. 0. 0. ... 0. 0. 0.]\n",
      "  ...\n",
      "  [0. 0. 0. ... 0. 0. 0.]\n",
      "  [0. 0. 0. ... 0. 0. 0.]\n",
      "  [0. 0. 0. ... 0. 0. 0.]]]\n"
     ]
    }
   ],
   "source": [
    "print(train_images)"
   ]
  },
  {
   "cell_type": "code",
   "execution_count": 8,
   "id": "b9736b07",
   "metadata": {},
   "outputs": [
    {
     "name": "stdout",
     "output_type": "stream",
     "text": [
      "(60000, 10)\n",
      "(60000, 28, 28)\n"
     ]
    }
   ],
   "source": [
    "print(train_labels.shape)\n",
    "print(train_images.shape)"
   ]
  },
  {
   "cell_type": "markdown",
   "id": "3e36fd81",
   "metadata": {},
   "source": [
    "so each number is 28 pixels x 28 pixels"
   ]
  },
  {
   "cell_type": "markdown",
   "id": "9a920a98",
   "metadata": {},
   "source": [
    "# 1. Now, we start to set up layers for it\n",
    "\n",
    "we use relu functions as the activation function since is good and its simple,\n",
    "easy for training and processing data\n",
    "\n",
    "![Image](1_DfMRHwxY1gyyDmrIAd-gjQ.png)"
   ]
  },
  {
   "cell_type": "code",
   "execution_count": 9,
   "id": "53f8e87c",
   "metadata": {},
   "outputs": [],
   "source": [
    "from tensorflow.keras.models import Sequential\n",
    "from tensorflow.keras.layers import Flatten, Dense\n",
    "\n",
    "\n",
    "model = Sequential([\n",
    "    Flatten(input_shape=(28, 28)),  # Flatten the 28x28 images\n",
    "    Dense(128, activation='relu'),  # Fully connected layer with 128 units and ReLU activation\n",
    "    Dense(10, activation='softmax')  # Output layer with 10 units (for 10 classes) with softmax activation\n",
    "])"
   ]
  },
  {
   "cell_type": "markdown",
   "id": "895333f1",
   "metadata": {},
   "source": [
    "# 2. Complie the Model"
   ]
  },
  {
   "cell_type": "code",
   "execution_count": 10,
   "id": "af3fd02c",
   "metadata": {},
   "outputs": [
    {
     "name": "stdout",
     "output_type": "stream",
     "text": [
      "Model: \"sequential\"\n",
      "_________________________________________________________________\n",
      " Layer (type)                Output Shape              Param #   \n",
      "=================================================================\n",
      " flatten (Flatten)           (None, 784)               0         \n",
      "                                                                 \n",
      " dense (Dense)               (None, 128)               100480    \n",
      "                                                                 \n",
      " dense_1 (Dense)             (None, 10)                1290      \n",
      "                                                                 \n",
      "=================================================================\n",
      "Total params: 101770 (397.54 KB)\n",
      "Trainable params: 101770 (397.54 KB)\n",
      "Non-trainable params: 0 (0.00 Byte)\n",
      "_________________________________________________________________\n"
     ]
    }
   ],
   "source": [
    "model.compile(optimizer='adam',\n",
    "              loss='categorical_crossentropy',\n",
    "              metrics=['accuracy'])\n",
    "\n",
    "model.summary()"
   ]
  },
  {
   "cell_type": "markdown",
   "id": "0994d40c",
   "metadata": {},
   "source": [
    "# 3. Train the Model"
   ]
  },
  {
   "cell_type": "code",
   "execution_count": 11,
   "id": "c2851383",
   "metadata": {},
   "outputs": [
    {
     "name": "stdout",
     "output_type": "stream",
     "text": [
      "Epoch 1/5\n",
      "1875/1875 [==============================] - 2s 817us/step - loss: 0.2555 - accuracy: 0.9281 - val_loss: 0.1287 - val_accuracy: 0.9625\n",
      "Epoch 2/5\n",
      "1875/1875 [==============================] - 1s 761us/step - loss: 0.1095 - accuracy: 0.9682 - val_loss: 0.0963 - val_accuracy: 0.9700\n",
      "Epoch 3/5\n",
      "1875/1875 [==============================] - 1s 714us/step - loss: 0.0759 - accuracy: 0.9769 - val_loss: 0.0829 - val_accuracy: 0.9726\n",
      "Epoch 4/5\n",
      "1875/1875 [==============================] - 1s 694us/step - loss: 0.0575 - accuracy: 0.9820 - val_loss: 0.0816 - val_accuracy: 0.9748\n",
      "Epoch 5/5\n",
      "1875/1875 [==============================] - 1s 726us/step - loss: 0.0447 - accuracy: 0.9858 - val_loss: 0.0749 - val_accuracy: 0.9777\n"
     ]
    }
   ],
   "source": [
    "history = model.fit(\n",
    "    train_images,\n",
    "    train_labels,\n",
    "    epochs=5,\n",
    "    batch_size=32,\n",
    "    validation_data=(test_images, test_labels)\n",
    ")\n"
   ]
  },
  {
   "cell_type": "markdown",
   "id": "07cbb7fe",
   "metadata": {},
   "source": [
    "# 4. Evaluate the Model"
   ]
  },
  {
   "cell_type": "code",
   "execution_count": 12,
   "id": "34e4139f",
   "metadata": {
    "scrolled": false
   },
   "outputs": [
    {
     "name": "stdout",
     "output_type": "stream",
     "text": [
      "313/313 [==============================] - 0s 418us/step - loss: 0.0749 - accuracy: 0.9777\n",
      "Test Accuracy: 97.77%\n"
     ]
    }
   ],
   "source": [
    "test_loss, test_acc = model.evaluate(test_images, test_labels)\n",
    "print(f\"Test Accuracy: {test_acc * 100:.2f}%\")\n"
   ]
  },
  {
   "cell_type": "markdown",
   "id": "7809cfef",
   "metadata": {},
   "source": [
    "## lets vitualize it"
   ]
  },
  {
   "cell_type": "code",
   "execution_count": 13,
   "id": "d508275c",
   "metadata": {},
   "outputs": [
    {
     "data": {
      "image/png": "[encoded data removed]",
      "text/plain": [
       "<Figure size 1200x400 with 2 Axes>"
      ]
     },
     "metadata": {},
     "output_type": "display_data"
    }
   ],
   "source": [
    "# Plot training & validation accuracy values\n",
    "plt.figure(figsize=(12, 4))\n",
    "\n",
    "plt.subplot(1, 2, 1)\n",
    "plt.plot(history.history['accuracy'])\n",
    "plt.plot(history.history['val_accuracy'])\n",
    "plt.title('Model accuracy')\n",
    "plt.ylabel('Accuracy')\n",
    "plt.xlabel('Epoch')\n",
    "plt.legend(['Train', 'Test'], loc='upper left')\n",
    "\n",
    "# Plot training & validation loss values\n",
    "plt.subplot(1, 2, 2)\n",
    "plt.plot(history.history['loss'])\n",
    "plt.plot(history.history['val_loss'])\n",
    "plt.title('Model loss')\n",
    "plt.ylabel('Loss')\n",
    "plt.xlabel('Epoch')\n",
    "plt.legend(['Train', 'Test'], loc='upper left')\n",
    "\n",
    "plt.tight_layout()\n",
    "plt.show()\n"
   ]
  },
  {
   "cell_type": "markdown",
   "id": "ba646e2e",
   "metadata": {},
   "source": [
    "Great! we got 97% accuracy!\n",
    "\n",
    "we can still do some improvments"
   ]
  },
  {
   "cell_type": "code",
   "execution_count": 14,
   "id": "9eae3173",
   "metadata": {
    "scrolled": true
   },
   "outputs": [
    {
     "name": "stdout",
     "output_type": "stream",
     "text": [
      "Model: \"sequential_1\"\n",
      "_________________________________________________________________\n",
      " Layer (type)                Output Shape              Param #   \n",
      "=================================================================\n",
      " flatten_1 (Flatten)         (None, 784)               0         \n",
      "                                                                 \n",
      " dense_2 (Dense)             (None, 256)               200960    \n",
      "                                                                 \n",
      " dense_3 (Dense)             (None, 10)                2570      \n",
      "                                                                 \n",
      "=================================================================\n",
      "Total params: 203530 (795.04 KB)\n",
      "Trainable params: 203530 (795.04 KB)\n",
      "Non-trainable params: 0 (0.00 Byte)\n",
      "_________________________________________________________________\n"
     ]
    }
   ],
   "source": [
    "model = Sequential([\n",
    "    Flatten(input_shape=(28, 28)),  # Flatten the 28x28 images\n",
    "    Dense(256, activation='relu'),  # Fully connected layer with 128 units and ReLU activation\n",
    "    Dense(10, activation='softmax')  # Output layer with 10 units (for 10 classes) with softmax activation\n",
    "])\n",
    "\n",
    "model.compile(optimizer='adam',\n",
    "              loss='categorical_crossentropy',\n",
    "              metrics=['accuracy']\n",
    ")\n",
    "\n",
    "model.summary()"
   ]
  },
  {
   "cell_type": "markdown",
   "id": "e6d30ea1",
   "metadata": {},
   "source": [
    "now we change the epochs count to 10, but just in case we add early_stopping to avoid overfitting"
   ]
  },
  {
   "cell_type": "code",
   "execution_count": 15,
   "id": "081ea25a",
   "metadata": {},
   "outputs": [
    {
     "name": "stdout",
     "output_type": "stream",
     "text": [
      "Epoch 1/10\n",
      "1875/1875 [==============================] - 2s 837us/step - loss: 0.2265 - accuracy: 0.9342 - val_loss: 0.1143 - val_accuracy: 0.9652\n",
      "Epoch 2/10\n",
      "1875/1875 [==============================] - 1s 790us/step - loss: 0.0937 - accuracy: 0.9721 - val_loss: 0.0896 - val_accuracy: 0.9692\n",
      "Epoch 3/10\n",
      "1875/1875 [==============================] - 1s 782us/step - loss: 0.0622 - accuracy: 0.9815 - val_loss: 0.0675 - val_accuracy: 0.9786\n",
      "Epoch 4/10\n",
      "1875/1875 [==============================] - 1s 795us/step - loss: 0.0438 - accuracy: 0.9866 - val_loss: 0.0682 - val_accuracy: 0.9785\n",
      "Epoch 5/10\n",
      "1875/1875 [==============================] - 2s 822us/step - loss: 0.0347 - accuracy: 0.9889 - val_loss: 0.0706 - val_accuracy: 0.9780\n",
      "Epoch 6/10\n",
      "1875/1875 [==============================] - 2s 829us/step - loss: 0.0247 - accuracy: 0.9922 - val_loss: 0.0760 - val_accuracy: 0.9775\n",
      "Epoch 7/10\n",
      "1875/1875 [==============================] - 2s 801us/step - loss: 0.0196 - accuracy: 0.9936 - val_loss: 0.0744 - val_accuracy: 0.9793\n",
      "Epoch 8/10\n",
      "1875/1875 [==============================] - 2s 982us/step - loss: 0.0164 - accuracy: 0.9946 - val_loss: 0.0748 - val_accuracy: 0.9802\n",
      "Epoch 9/10\n",
      "1875/1875 [==============================] - 1s 783us/step - loss: 0.0130 - accuracy: 0.9956 - val_loss: 0.0791 - val_accuracy: 0.9796\n",
      "Epoch 10/10\n",
      "1875/1875 [==============================] - 1s 779us/step - loss: 0.0109 - accuracy: 0.9965 - val_loss: 0.0784 - val_accuracy: 0.9815\n"
     ]
    }
   ],
   "source": [
    "from tensorflow.keras.callbacks import EarlyStopping\n",
    "early_stopping = EarlyStopping(\n",
    "    min_delta=0.001, # minimium amount of change to count as an improvement\n",
    "    patience=20, # how many epochs to wait before stopping\n",
    "    restore_best_weights=True,\n",
    ")\n",
    "\n",
    "history = model.fit(\n",
    "    train_images,\n",
    "    train_labels,\n",
    "    epochs=10,\n",
    "    batch_size=32,\n",
    "    callbacks=[early_stopping], # put your callbacks in a list\n",
    "    validation_data=(test_images, test_labels)\n",
    ")"
   ]
  },
  {
   "cell_type": "markdown",
   "id": "22c859cf",
   "metadata": {},
   "source": [
    "Great! almost 100% accuracy, lets try further with higher epoches"
   ]
  },
  {
   "cell_type": "code",
   "execution_count": 16,
   "id": "9604e2f9",
   "metadata": {},
   "outputs": [
    {
     "name": "stdout",
     "output_type": "stream",
     "text": [
      "Epoch 1/15\n",
      "1875/1875 [==============================] - 2s 838us/step - loss: 0.0098 - accuracy: 0.9968 - val_loss: 0.0725 - val_accuracy: 0.9830\n",
      "Epoch 2/15\n",
      "1875/1875 [==============================] - 2s 823us/step - loss: 0.0094 - accuracy: 0.9967 - val_loss: 0.0832 - val_accuracy: 0.9801\n",
      "Epoch 3/15\n",
      "1875/1875 [==============================] - 2s 840us/step - loss: 0.0080 - accuracy: 0.9973 - val_loss: 0.0831 - val_accuracy: 0.9815\n",
      "Epoch 4/15\n",
      "1875/1875 [==============================] - 2s 836us/step - loss: 0.0070 - accuracy: 0.9976 - val_loss: 0.0913 - val_accuracy: 0.9792\n",
      "Epoch 5/15\n",
      "1875/1875 [==============================] - 1s 788us/step - loss: 0.0061 - accuracy: 0.9981 - val_loss: 0.0992 - val_accuracy: 0.9785\n",
      "Epoch 6/15\n",
      "1875/1875 [==============================] - 1s 791us/step - loss: 0.0050 - accuracy: 0.9985 - val_loss: 0.0985 - val_accuracy: 0.9808\n",
      "Epoch 7/15\n",
      "1875/1875 [==============================] - 1s 785us/step - loss: 0.0072 - accuracy: 0.9976 - val_loss: 0.1078 - val_accuracy: 0.9798\n",
      "Epoch 8/15\n",
      "1875/1875 [==============================] - 2s 816us/step - loss: 0.0049 - accuracy: 0.9983 - val_loss: 0.1113 - val_accuracy: 0.9797\n",
      "Epoch 9/15\n",
      "1875/1875 [==============================] - 2s 802us/step - loss: 0.0055 - accuracy: 0.9979 - val_loss: 0.1200 - val_accuracy: 0.9784\n",
      "Epoch 10/15\n",
      "1875/1875 [==============================] - 1s 787us/step - loss: 0.0059 - accuracy: 0.9979 - val_loss: 0.1132 - val_accuracy: 0.9809\n",
      "Epoch 11/15\n",
      "1875/1875 [==============================] - 2s 810us/step - loss: 0.0045 - accuracy: 0.9986 - val_loss: 0.1189 - val_accuracy: 0.9804\n",
      "Epoch 12/15\n",
      "1875/1875 [==============================] - 2s 847us/step - loss: 0.0060 - accuracy: 0.9980 - val_loss: 0.1043 - val_accuracy: 0.9813\n",
      "Epoch 13/15\n",
      "1875/1875 [==============================] - 2s 819us/step - loss: 0.0022 - accuracy: 0.9993 - val_loss: 0.1362 - val_accuracy: 0.9780\n",
      "Epoch 14/15\n",
      "1875/1875 [==============================] - 2s 811us/step - loss: 0.0060 - accuracy: 0.9979 - val_loss: 0.1164 - val_accuracy: 0.9798\n",
      "Epoch 15/15\n",
      "1875/1875 [==============================] - 1s 799us/step - loss: 0.0034 - accuracy: 0.9988 - val_loss: 0.1139 - val_accuracy: 0.9815\n"
     ]
    }
   ],
   "source": [
    "history = model.fit(\n",
    "    train_images,\n",
    "    train_labels,\n",
    "    epochs=15,\n",
    "    batch_size=32,\n",
    "    callbacks=[early_stopping], # put your callbacks in a list\n",
    "    validation_data=(test_images, test_labels)\n",
    ")"
   ]
  },
  {
   "cell_type": "markdown",
   "id": "413d25fd",
   "metadata": {},
   "source": [
    "it seems if I directly use another fit functions, the loss start as where I ended last time, which might suggest that it trains again on the model I have just trained\n",
    "\n",
    "If we want to avoid it, I guess we should start it over"
   ]
  },
  {
   "cell_type": "code",
   "execution_count": 28,
   "id": "26471ef4",
   "metadata": {},
   "outputs": [
    {
     "name": "stdout",
     "output_type": "stream",
     "text": [
      "Epoch 1/10\n",
      "1875/1875 [==============================] - 1s 696us/step - loss: 0.2561 - accuracy: 0.9274 - val_loss: 0.1318 - val_accuracy: 0.9618\n",
      "Epoch 2/10\n",
      "1875/1875 [==============================] - 1s 673us/step - loss: 0.1139 - accuracy: 0.9664 - val_loss: 0.0943 - val_accuracy: 0.9717\n",
      "Epoch 3/10\n",
      "1875/1875 [==============================] - 1s 713us/step - loss: 0.0772 - accuracy: 0.9766 - val_loss: 0.0832 - val_accuracy: 0.9739\n",
      "Epoch 4/10\n",
      "1875/1875 [==============================] - 1s 660us/step - loss: 0.0570 - accuracy: 0.9829 - val_loss: 0.0814 - val_accuracy: 0.9760\n",
      "Epoch 5/10\n",
      "1875/1875 [==============================] - 1s 659us/step - loss: 0.0454 - accuracy: 0.9858 - val_loss: 0.0796 - val_accuracy: 0.9758\n",
      "Epoch 6/10\n",
      "1875/1875 [==============================] - 1s 659us/step - loss: 0.0356 - accuracy: 0.9887 - val_loss: 0.0813 - val_accuracy: 0.9760\n",
      "Epoch 7/10\n",
      "1875/1875 [==============================] - 1s 657us/step - loss: 0.0287 - accuracy: 0.9913 - val_loss: 0.0810 - val_accuracy: 0.9756\n",
      "Epoch 8/10\n",
      "1875/1875 [==============================] - 1s 725us/step - loss: 0.0229 - accuracy: 0.9928 - val_loss: 0.0782 - val_accuracy: 0.9775\n",
      "Epoch 9/10\n",
      "1875/1875 [==============================] - 1s 673us/step - loss: 0.0182 - accuracy: 0.9945 - val_loss: 0.0813 - val_accuracy: 0.9785\n",
      "Epoch 10/10\n",
      "1875/1875 [==============================] - 1s 657us/step - loss: 0.0158 - accuracy: 0.9952 - val_loss: 0.0777 - val_accuracy: 0.9776\n"
     ]
    }
   ],
   "source": [
    "model = Sequential([\n",
    "    Flatten(input_shape=(28, 28)),  # Flatten the 28x28 images\n",
    "    Dense(128, activation='relu'),  # Fully connected layer with 128 units and ReLU activation\n",
    "    Dense(10, activation='softmax')  # Output layer with 10 units (for 10 classes) with softmax activation\n",
    "])\n",
    "\n",
    "model.compile(optimizer='adam',\n",
    "              loss='categorical_crossentropy',\n",
    "              metrics=['accuracy'])\n",
    "early_stopping = EarlyStopping(\n",
    "    min_delta=0.001, # minimium amount of change to count as an improvement\n",
    "    patience=20, # how many epochs to wait before stopping\n",
    "    restore_best_weights=True,\n",
    ")\n",
    "history = model.fit(\n",
    "    train_images,\n",
    "    train_labels,\n",
    "    epochs=10,\n",
    "    batch_size=32,\n",
    "    callbacks=[early_stopping], # put your callbacks in a list\n",
    "    validation_data=(test_images, test_labels)\n",
    ")"
   ]
  },
  {
   "cell_type": "code",
   "execution_count": 29,
   "id": "49fb91de",
   "metadata": {
    "scrolled": true
   },
   "outputs": [
    {
     "data": {
      "image/png": "[encoded data removed]",
      "text/plain": [
       "<Figure size 1200x400 with 2 Axes>"
      ]
     },
     "metadata": {},
     "output_type": "display_data"
    }
   ],
   "source": [
    "# Plot training & validation accuracy values\n",
    "plt.figure(figsize=(12, 4))\n",
    "\n",
    "plt.subplot(1, 2, 1)\n",
    "plt.plot(history.history['accuracy'])\n",
    "plt.plot(history.history['val_accuracy'])\n",
    "plt.title('Model accuracy')\n",
    "plt.ylabel('Accuracy')\n",
    "plt.xlabel('Epoch')\n",
    "plt.legend(['Train', 'Test'], loc='upper left')\n",
    "\n",
    "# Plot training & validation loss values\n",
    "plt.subplot(1, 2, 2)\n",
    "plt.plot(history.history['loss'])\n",
    "plt.plot(history.history['val_loss'])\n",
    "plt.title('Model loss')\n",
    "plt.ylabel('Loss')\n",
    "plt.xlabel('Epoch')\n",
    "plt.legend(['Train', 'Test'], loc='upper left')\n",
    "\n",
    "plt.tight_layout()\n",
    "plt.show()"
   ]
  },
  {
   "cell_type": "code",
   "execution_count": 34,
   "id": "1525d214",
   "metadata": {},
   "outputs": [
    {
     "data": {
      "image/png": "[encoded data removed]",
      "text/plain": [
       "<Figure size 640x480 with 1 Axes>"
      ]
     },
     "metadata": {},
     "output_type": "display_data"
    }
   ],
   "source": [
    "history_df = pd.DataFrame(history.history)\n",
    "history_df.loc[:, ['loss', 'val_loss']].plot();"
   ]
  },
  {
   "cell_type": "code",
   "execution_count": 19,
   "id": "fd6d1b94",
   "metadata": {},
   "outputs": [
    {
     "data": {
      "text/plain": [
       "{'loss': [0.22070597112178802,\n",
       "  0.09154766798019409,\n",
       "  0.06130516901612282,\n",
       "  0.04478169232606888,\n",
       "  0.03293851763010025,\n",
       "  0.025184987112879753,\n",
       "  0.019530057907104492,\n",
       "  0.01601477712392807,\n",
       "  0.01281061489135027,\n",
       "  0.010680190287530422,\n",
       "  0.009442095644772053,\n",
       "  0.008974487893283367,\n",
       "  0.007534516975283623,\n",
       "  0.007101559080183506,\n",
       "  0.006281865295022726],\n",
       " 'accuracy': [0.9360666871070862,\n",
       "  0.9730833172798157,\n",
       "  0.9814833402633667,\n",
       "  0.9863499999046326,\n",
       "  0.989983320236206,\n",
       "  0.9916666746139526,\n",
       "  0.9935666918754578,\n",
       "  0.9950666427612305,\n",
       "  0.9958999752998352,\n",
       "  0.996483325958252,\n",
       "  0.9971833229064941,\n",
       "  0.9970333576202393,\n",
       "  0.9974666833877563,\n",
       "  0.9975166916847229,\n",
       "  0.9977666735649109],\n",
       " 'val_loss': [0.11028121411800385,\n",
       "  0.08852854371070862,\n",
       "  0.07909859716892242,\n",
       "  0.0747181624174118,\n",
       "  0.07619019597768784,\n",
       "  0.06984405219554901,\n",
       "  0.06666118651628494,\n",
       "  0.07518196105957031,\n",
       "  0.08322479575872421,\n",
       "  0.0868171975016594,\n",
       "  0.08774709701538086,\n",
       "  0.08541646599769592,\n",
       "  0.11101407557725906,\n",
       "  0.09484095126390457,\n",
       "  0.09372469782829285],\n",
       " 'val_accuracy': [0.9681000113487244,\n",
       "  0.9710999727249146,\n",
       "  0.9753999710083008,\n",
       "  0.975600004196167,\n",
       "  0.9771999716758728,\n",
       "  0.9801999926567078,\n",
       "  0.9805999994277954,\n",
       "  0.9793999791145325,\n",
       "  0.9779999852180481,\n",
       "  0.9785000085830688,\n",
       "  0.9782999753952026,\n",
       "  0.9807000160217285,\n",
       "  0.9757999777793884,\n",
       "  0.9789000153541565,\n",
       "  0.9801999926567078]}"
      ]
     },
     "execution_count": 19,
     "metadata": {},
     "output_type": "execute_result"
    }
   ],
   "source": [
    "history.history"
   ]
  },
  {
   "cell_type": "markdown",
   "id": "ae429ea2",
   "metadata": {},
   "source": [
    "well, it seems that loss and the accuracy still have some space to impove since they are not following to the trend of train."
   ]
  },
  {
   "cell_type": "markdown",
   "id": "359e9ceb",
   "metadata": {},
   "source": [
    "# OK, now its time to see if this model acctually works,\n",
    "\n",
    "## Lets Predict"
   ]
  },
  {
   "cell_type": "markdown",
   "id": "a9fad753",
   "metadata": {},
   "source": [
    "Make Predictions:\n",
    "\n",
    "Use the predict method of your trained model to get predictions. This method will return the predicted probabilities for each class\n",
    "\n",
    "predictions will be an array with shape (number_of_samples, number_of_classes). Each row will contain the predicted probabilities for each class."
   ]
  },
  {
   "cell_type": "code",
   "execution_count": 35,
   "id": "71dbc76f",
   "metadata": {
    "scrolled": true
   },
   "outputs": [
    {
     "name": "stdout",
     "output_type": "stream",
     "text": [
      "313/313 [==============================] - 0s 323us/step\n"
     ]
    }
   ],
   "source": [
    "predictions = model.predict(test_images)"
   ]
  },
  {
   "cell_type": "markdown",
   "id": "45690ca8",
   "metadata": {},
   "source": [
    "Get Predicted Classes:\n",
    "\n",
    "If we want to get the class with the highest probability for each sample (i.e., the predicted class label), we can use np.argmax:"
   ]
  },
  {
   "cell_type": "code",
   "execution_count": 36,
   "id": "33d7bee1",
   "metadata": {},
   "outputs": [],
   "source": [
    "predicted_labels = np.argmax(predictions, axis=1)\n"
   ]
  },
  {
   "cell_type": "markdown",
   "id": "2ad33ad7",
   "metadata": {},
   "source": [
    "## Visualize Predictions"
   ]
  },
  {
   "cell_type": "code",
   "execution_count": 37,
   "id": "e0b1a2b3",
   "metadata": {
    "scrolled": true
   },
   "outputs": [
    {
     "data": {
      "image/png": "[encoded data removed]",
      "text/plain": [
       "<Figure size 1000x500 with 10 Axes>"
      ]
     },
     "metadata": {},
     "output_type": "display_data"
    }
   ],
   "source": [
    "# Visualize the first 10 predictions\n",
    "plt.figure(figsize=(10, 5))\n",
    "for i in range(10):\n",
    "    plt.subplot(2, 5, i+1)\n",
    "    plt.imshow(test_images[i], cmap='gray')\n",
    "    plt.title(f\"Pred: {predicted_labels[i]}\\nTrue: {np.argmax(test_labels[i])}\")\n",
    "    plt.axis('off')\n",
    "plt.tight_layout()\n",
    "plt.show()\n"
   ]
  },
  {
   "cell_type": "markdown",
   "id": "e16251a7",
   "metadata": {},
   "source": [
    "## Evaluate Prediction Accuracy "
   ]
  },
  {
   "cell_type": "code",
   "execution_count": 38,
   "id": "f8f6c4fa",
   "metadata": {},
   "outputs": [
    {
     "name": "stdout",
     "output_type": "stream",
     "text": [
      "Prediction accuracy: 97.76%\n"
     ]
    }
   ],
   "source": [
    "accuracy = np.mean(predicted_labels == np.argmax(test_labels, axis=1))\n",
    "print(f\"Prediction accuracy: {accuracy * 100:.2f}%\")\n"
   ]
  },
  {
   "cell_type": "code",
   "execution_count": null,
   "id": "e006838b",
   "metadata": {},
   "outputs": [],
   "source": []
  }
 ],
 "metadata": {
  "kernelspec": {
   "display_name": "Python 3 (ipykernel)",
   "language": "python",
   "name": "python3"
  },
  "language_info": {
   "codemirror_mode": {
    "name": "ipython",
    "version": 3
   },
   "file_extension": ".py",
   "mimetype": "text/x-python",
   "name": "python",
   "nbconvert_exporter": "python",
   "pygments_lexer": "ipython3",
   "version": "3.9.17"
  }
 },
 "nbformat": 4,
 "nbformat_minor": 5
}
